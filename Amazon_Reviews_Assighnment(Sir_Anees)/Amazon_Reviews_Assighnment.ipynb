{
  "nbformat": 4,
  "nbformat_minor": 0,
  "metadata": {
    "colab": {
      "name": "Amazon_Reviews_Assighnment.ipynb",
      "provenance": [],
      "collapsed_sections": []
    },
    "kernelspec": {
      "name": "python3",
      "display_name": "Python 3"
    }
  },
  "cells": [
    {
      "cell_type": "markdown",
      "metadata": {
        "id": "29o-oFpYGAZ1",
        "colab_type": "text"
      },
      "source": [
        "Download Following Dataset and use five text(use randomly generated 5 numbers and extract the data of the generated numbers from the dataset) to test the assignments. https://www.kaggle.com/bittlingmayer/amazonreviews\n",
        "\n",
        "1) one-hot coding of the following data using book codes (naive codes) of listing 6.1.\n",
        "\n",
        "2) Also, provide one-hot coding using Keras built-in function (listing 6.3).\n",
        "\n",
        "3) provide one-hot coding with hashing (listing 6.4)\n",
        "\n",
        "4) Validate the how much they are similar. Try to maximize the similarity (ideally should be 100% the same). Specify the reason if both are not the same.\n",
        "\n",
        "5) Try to implement word-embedding using code given in listing (6.7) and shared with me the embedding array as well as the word dictionary.\n",
        "\n",
        "6) From 6.8 code pre-trained word-embeddings\n",
        "\n",
        "7) Apply RNN to the given text (listing 6.21) and provide output\n",
        "\n",
        "8) Match the results of RNN (step 7) with the step 5 and also with step\n",
        "\n",
        "Share the output of the analysis.\n",
        "Submit your assignment here https://forms.gle/ta88MoyAC8Fmsd4n7"
      ]
    },
    {
      "cell_type": "code",
      "metadata": {
        "id": "NYHwknv5GN7w",
        "colab_type": "code",
        "colab": {}
      },
      "source": [
        "# mounting Google drive\n",
        "from google.colab import drive\n",
        "drive.mount('/content/drive')"
      ],
      "execution_count": 0,
      "outputs": []
    },
    {
      "cell_type": "code",
      "metadata": {
        "id": "MHNIWUYV9Ntq",
        "colab_type": "code",
        "outputId": "8dfe294e-4e5d-4bd0-b81a-c1fa86127694",
        "colab": {
          "base_uri": "https://localhost:8080/",
          "height": 207
        }
      },
      "source": [
        "# Datasets in my Google drive\n",
        "import os\n",
        "os.listdir(\"/content/drive/My Drive/ML and AI/Datasets\")"
      ],
      "execution_count": 0,
      "outputs": [
        {
          "output_type": "execute_result",
          "data": {
            "text/plain": [
              "['cat vs dog',\n",
              " 'compresive_strength_concrete',\n",
              " 'Mnist_fashion_dataset',\n",
              " 'Boston Housing dataset',\n",
              " 'sonar dataset',\n",
              " 'Iris dataset',\n",
              " 'diabetes dataset',\n",
              " 'bbc dataset',\n",
              " 'IMDB dataset',\n",
              " 'jena_climate',\n",
              " 'Amazon_Reviews']"
            ]
          },
          "metadata": {
            "tags": []
          },
          "execution_count": 2
        }
      ]
    },
    {
      "cell_type": "code",
      "metadata": {
        "id": "4l_9MlRS9aPD",
        "colab_type": "code",
        "outputId": "bcbf539a-1f24-484f-8bc1-89380afa0305",
        "colab": {
          "base_uri": "https://localhost:8080/",
          "height": 34
        }
      },
      "source": [
        "# Current location\n",
        "!pwd"
      ],
      "execution_count": 0,
      "outputs": [
        {
          "output_type": "stream",
          "text": [
            "/content\n"
          ],
          "name": "stdout"
        }
      ]
    },
    {
      "cell_type": "code",
      "metadata": {
        "id": "_qDjusNe9mJt",
        "colab_type": "code",
        "colab": {}
      },
      "source": [
        "# unzipped in current location\n",
        "!unzip \"/content/drive/My Drive/ML and AI/Datasets/Amazon_Reviews/Amazon Reviews for Sentiment Analysis.zip\"\n",
        "# then move the both extracted file to Datasets folder\n",
        "import shutil\n",
        "shutil.move(\"train.ft.txt\", \"/content/drive/My Drive/ML and AI/Datasets/Amazon_Reviews\")\n",
        "shutil.move(\"test.ft.txt\", \"/content/drive/My Drive/ML and AI/Datasets/Amazon_Reviews\")"
      ],
      "execution_count": 0,
      "outputs": []
    },
    {
      "cell_type": "code",
      "metadata": {
        "id": "QX0QnY1D94ab",
        "colab_type": "code",
        "outputId": "81088346-a36a-45d0-ddc7-3f7075e9ad5c",
        "colab": {
          "base_uri": "https://localhost:8080/",
          "height": 34
        }
      },
      "source": [
        "os.listdir(\"/content/drive/My Drive/ML and AI/Datasets/Amazon_Reviews\")"
      ],
      "execution_count": 0,
      "outputs": [
        {
          "output_type": "execute_result",
          "data": {
            "text/plain": [
              "['test.ft.txt', 'train.ft.txt', 'Amazon Reviews for Sentiment Analysis.zip']"
            ]
          },
          "metadata": {
            "tags": []
          },
          "execution_count": 4
        }
      ]
    },
    {
      "cell_type": "code",
      "metadata": {
        "id": "_PhUTugC985g",
        "colab_type": "code",
        "colab": {}
      },
      "source": [
        "# Load the training data\n",
        "data = open(\"/content/drive/My Drive/ML and AI/Datasets/Amazon_Reviews/train.ft.txt\", \"r\")\n",
        "data = data.read()\n",
        "data = data.splitlines()"
      ],
      "execution_count": 0,
      "outputs": []
    },
    {
      "cell_type": "code",
      "metadata": {
        "id": "ekhCNaTe-Lz1",
        "colab_type": "code",
        "colab": {}
      },
      "source": [
        "# creating labels\n",
        "labels = []\n",
        "x = 0\n",
        "y = 1\n",
        "\n",
        "for j in range(len(data)):\n",
        "  for i in data[x:y]:\n",
        "    if i[:10] == \"__label__2\":\n",
        "      labels.append(0)\n",
        "    elif i[:10] == \"__label__1\":\n",
        "      labels.append(1)\n",
        "    else:\n",
        "      print(\"fault\")\n",
        "    x+=1\n",
        "    y+=1"
      ],
      "execution_count": 0,
      "outputs": []
    },
    {
      "cell_type": "code",
      "metadata": {
        "id": "Ns-cgFPs-Ybv",
        "colab_type": "code",
        "colab": {}
      },
      "source": [
        "# cleaning text\n",
        "texts = []\n",
        "x = 0\n",
        "y = 1\n",
        "\n",
        "for j in range(len(data)):\n",
        "  for i in data[x:y]:\n",
        "      texts.append(i[11:])\n",
        "  x+=1\n",
        "  y+=1"
      ],
      "execution_count": 0,
      "outputs": []
    },
    {
      "cell_type": "code",
      "metadata": {
        "id": "t-dxkDIx-bU2",
        "colab_type": "code",
        "outputId": "b6b1dc95-33e6-48ab-d87e-89861cf67963",
        "colab": {
          "base_uri": "https://localhost:8080/",
          "height": 425
        }
      },
      "source": [
        "# saving in dataframe\n",
        "import pandas as pd\n",
        "df = pd.DataFrame(list(zip(labels, texts)), \n",
        "               columns =['labels', 'reviews']) \n",
        "df.head(12)"
      ],
      "execution_count": 0,
      "outputs": [
        {
          "output_type": "execute_result",
          "data": {
            "text/html": [
              "<div>\n",
              "<style scoped>\n",
              "    .dataframe tbody tr th:only-of-type {\n",
              "        vertical-align: middle;\n",
              "    }\n",
              "\n",
              "    .dataframe tbody tr th {\n",
              "        vertical-align: top;\n",
              "    }\n",
              "\n",
              "    .dataframe thead th {\n",
              "        text-align: right;\n",
              "    }\n",
              "</style>\n",
              "<table border=\"1\" class=\"dataframe\">\n",
              "  <thead>\n",
              "    <tr style=\"text-align: right;\">\n",
              "      <th></th>\n",
              "      <th>labels</th>\n",
              "      <th>reviews</th>\n",
              "    </tr>\n",
              "  </thead>\n",
              "  <tbody>\n",
              "    <tr>\n",
              "      <th>0</th>\n",
              "      <td>0</td>\n",
              "      <td>Stuning even for the non-gamer: This sound tra...</td>\n",
              "    </tr>\n",
              "    <tr>\n",
              "      <th>1</th>\n",
              "      <td>0</td>\n",
              "      <td>The best soundtrack ever to anything.: I'm rea...</td>\n",
              "    </tr>\n",
              "    <tr>\n",
              "      <th>2</th>\n",
              "      <td>0</td>\n",
              "      <td>Amazing!: This soundtrack is my favorite music...</td>\n",
              "    </tr>\n",
              "    <tr>\n",
              "      <th>3</th>\n",
              "      <td>0</td>\n",
              "      <td>Excellent Soundtrack: I truly like this soundt...</td>\n",
              "    </tr>\n",
              "    <tr>\n",
              "      <th>4</th>\n",
              "      <td>0</td>\n",
              "      <td>Remember, Pull Your Jaw Off The Floor After He...</td>\n",
              "    </tr>\n",
              "    <tr>\n",
              "      <th>5</th>\n",
              "      <td>0</td>\n",
              "      <td>an absolute masterpiece: I am quite sure any o...</td>\n",
              "    </tr>\n",
              "    <tr>\n",
              "      <th>6</th>\n",
              "      <td>1</td>\n",
              "      <td>Buyer beware: This is a self-published book, a...</td>\n",
              "    </tr>\n",
              "    <tr>\n",
              "      <th>7</th>\n",
              "      <td>0</td>\n",
              "      <td>Glorious story: I loved Whisper of the wicked ...</td>\n",
              "    </tr>\n",
              "    <tr>\n",
              "      <th>8</th>\n",
              "      <td>0</td>\n",
              "      <td>A FIVE STAR BOOK: I just finished reading Whis...</td>\n",
              "    </tr>\n",
              "    <tr>\n",
              "      <th>9</th>\n",
              "      <td>0</td>\n",
              "      <td>Whispers of the Wicked Saints: This was a easy...</td>\n",
              "    </tr>\n",
              "    <tr>\n",
              "      <th>10</th>\n",
              "      <td>1</td>\n",
              "      <td>The Worst!: A complete waste of time. Typograp...</td>\n",
              "    </tr>\n",
              "    <tr>\n",
              "      <th>11</th>\n",
              "      <td>0</td>\n",
              "      <td>Great book: This was a great book,I just could...</td>\n",
              "    </tr>\n",
              "  </tbody>\n",
              "</table>\n",
              "</div>"
            ],
            "text/plain": [
              "    labels                                            reviews\n",
              "0        0  Stuning even for the non-gamer: This sound tra...\n",
              "1        0  The best soundtrack ever to anything.: I'm rea...\n",
              "2        0  Amazing!: This soundtrack is my favorite music...\n",
              "3        0  Excellent Soundtrack: I truly like this soundt...\n",
              "4        0  Remember, Pull Your Jaw Off The Floor After He...\n",
              "5        0  an absolute masterpiece: I am quite sure any o...\n",
              "6        1  Buyer beware: This is a self-published book, a...\n",
              "7        0  Glorious story: I loved Whisper of the wicked ...\n",
              "8        0  A FIVE STAR BOOK: I just finished reading Whis...\n",
              "9        0  Whispers of the Wicked Saints: This was a easy...\n",
              "10       1  The Worst!: A complete waste of time. Typograp...\n",
              "11       0  Great book: This was a great book,I just could..."
            ]
          },
          "metadata": {
            "tags": []
          },
          "execution_count": 18
        }
      ]
    },
    {
      "cell_type": "code",
      "metadata": {
        "id": "0pnu_NrnEv4C",
        "colab_type": "code",
        "colab": {}
      },
      "source": [
        ""
      ],
      "execution_count": 0,
      "outputs": []
    }
  ]
}