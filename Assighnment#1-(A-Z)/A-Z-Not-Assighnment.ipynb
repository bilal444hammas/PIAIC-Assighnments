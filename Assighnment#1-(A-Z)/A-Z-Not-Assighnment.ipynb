{
 "cells": [
  {
   "cell_type": "code",
   "execution_count": 1,
   "metadata": {},
   "outputs": [],
   "source": [
    "import os\n",
    "import numpy as np\n",
    "import pandas as pd\n",
    "import matplotlib.pyplot as plt\n",
    "import tensorflow as tf"
   ]
  },
  {
   "cell_type": "markdown",
   "metadata": {},
   "source": [
    "# http://archive.ics.uci.edu/ml/datasets/Letter+Recognition"
   ]
  },
  {
   "cell_type": "code",
   "execution_count": 2,
   "metadata": {},
   "outputs": [
    {
     "data": {
      "text/plain": [
       "['.ipynb_checkpoints',\n",
       " 'A-Z-Assighnment.ipynb',\n",
       " 'Assignment#01.docx',\n",
       " 'data.csv',\n",
       " 'data_text.txt',\n",
       " 'Index',\n",
       " 'letter-recognition.data',\n",
       " 'letter-recognition.names']"
      ]
     },
     "execution_count": 2,
     "metadata": {},
     "output_type": "execute_result"
    }
   ],
   "source": [
    "os.listdir(\".\")"
   ]
  },
  {
   "cell_type": "code",
   "execution_count": 3,
   "metadata": {},
   "outputs": [
    {
     "data": {
      "text/html": [
       "<div>\n",
       "<style scoped>\n",
       "    .dataframe tbody tr th:only-of-type {\n",
       "        vertical-align: middle;\n",
       "    }\n",
       "\n",
       "    .dataframe tbody tr th {\n",
       "        vertical-align: top;\n",
       "    }\n",
       "\n",
       "    .dataframe thead th {\n",
       "        text-align: right;\n",
       "    }\n",
       "</style>\n",
       "<table border=\"1\" class=\"dataframe\">\n",
       "  <thead>\n",
       "    <tr style=\"text-align: right;\">\n",
       "      <th></th>\n",
       "      <th>0</th>\n",
       "      <th>1</th>\n",
       "      <th>2</th>\n",
       "      <th>3</th>\n",
       "      <th>4</th>\n",
       "      <th>5</th>\n",
       "      <th>6</th>\n",
       "      <th>7</th>\n",
       "      <th>8</th>\n",
       "      <th>9</th>\n",
       "      <th>10</th>\n",
       "      <th>11</th>\n",
       "      <th>12</th>\n",
       "      <th>13</th>\n",
       "      <th>14</th>\n",
       "      <th>15</th>\n",
       "      <th>16</th>\n",
       "    </tr>\n",
       "  </thead>\n",
       "  <tbody>\n",
       "    <tr>\n",
       "      <td>0</td>\n",
       "      <td>T</td>\n",
       "      <td>2</td>\n",
       "      <td>8</td>\n",
       "      <td>3</td>\n",
       "      <td>5</td>\n",
       "      <td>1</td>\n",
       "      <td>8</td>\n",
       "      <td>13</td>\n",
       "      <td>0</td>\n",
       "      <td>6</td>\n",
       "      <td>6</td>\n",
       "      <td>10</td>\n",
       "      <td>8</td>\n",
       "      <td>0</td>\n",
       "      <td>8</td>\n",
       "      <td>0</td>\n",
       "      <td>8</td>\n",
       "    </tr>\n",
       "    <tr>\n",
       "      <td>1</td>\n",
       "      <td>I</td>\n",
       "      <td>5</td>\n",
       "      <td>12</td>\n",
       "      <td>3</td>\n",
       "      <td>7</td>\n",
       "      <td>2</td>\n",
       "      <td>10</td>\n",
       "      <td>5</td>\n",
       "      <td>5</td>\n",
       "      <td>4</td>\n",
       "      <td>13</td>\n",
       "      <td>3</td>\n",
       "      <td>9</td>\n",
       "      <td>2</td>\n",
       "      <td>8</td>\n",
       "      <td>4</td>\n",
       "      <td>10</td>\n",
       "    </tr>\n",
       "    <tr>\n",
       "      <td>2</td>\n",
       "      <td>D</td>\n",
       "      <td>4</td>\n",
       "      <td>11</td>\n",
       "      <td>6</td>\n",
       "      <td>8</td>\n",
       "      <td>6</td>\n",
       "      <td>10</td>\n",
       "      <td>6</td>\n",
       "      <td>2</td>\n",
       "      <td>6</td>\n",
       "      <td>10</td>\n",
       "      <td>3</td>\n",
       "      <td>7</td>\n",
       "      <td>3</td>\n",
       "      <td>7</td>\n",
       "      <td>3</td>\n",
       "      <td>9</td>\n",
       "    </tr>\n",
       "    <tr>\n",
       "      <td>3</td>\n",
       "      <td>N</td>\n",
       "      <td>7</td>\n",
       "      <td>11</td>\n",
       "      <td>6</td>\n",
       "      <td>6</td>\n",
       "      <td>3</td>\n",
       "      <td>5</td>\n",
       "      <td>9</td>\n",
       "      <td>4</td>\n",
       "      <td>6</td>\n",
       "      <td>4</td>\n",
       "      <td>4</td>\n",
       "      <td>10</td>\n",
       "      <td>6</td>\n",
       "      <td>10</td>\n",
       "      <td>2</td>\n",
       "      <td>8</td>\n",
       "    </tr>\n",
       "    <tr>\n",
       "      <td>4</td>\n",
       "      <td>G</td>\n",
       "      <td>2</td>\n",
       "      <td>1</td>\n",
       "      <td>3</td>\n",
       "      <td>1</td>\n",
       "      <td>1</td>\n",
       "      <td>8</td>\n",
       "      <td>6</td>\n",
       "      <td>6</td>\n",
       "      <td>6</td>\n",
       "      <td>6</td>\n",
       "      <td>5</td>\n",
       "      <td>9</td>\n",
       "      <td>1</td>\n",
       "      <td>7</td>\n",
       "      <td>5</td>\n",
       "      <td>10</td>\n",
       "    </tr>\n",
       "  </tbody>\n",
       "</table>\n",
       "</div>"
      ],
      "text/plain": [
       "  0   1   2   3   4   5   6   7   8   9   10  11  12  13  14  15  16\n",
       "0  T   2   8   3   5   1   8  13   0   6   6  10   8   0   8   0   8\n",
       "1  I   5  12   3   7   2  10   5   5   4  13   3   9   2   8   4  10\n",
       "2  D   4  11   6   8   6  10   6   2   6  10   3   7   3   7   3   9\n",
       "3  N   7  11   6   6   3   5   9   4   6   4   4  10   6  10   2   8\n",
       "4  G   2   1   3   1   1   8   6   6   6   6   5   9   1   7   5  10"
      ]
     },
     "execution_count": 3,
     "metadata": {},
     "output_type": "execute_result"
    }
   ],
   "source": [
    "df = pd.read_csv(\"data.csv\",header=None)\n",
    "df.head()"
   ]
  },
  {
   "cell_type": "code",
   "execution_count": 4,
   "metadata": {},
   "outputs": [
    {
     "data": {
      "text/plain": [
       "Int64Index([0, 1, 2, 3, 4, 5, 6, 7, 8, 9, 10, 11, 12, 13, 14, 15, 16], dtype='int64')"
      ]
     },
     "execution_count": 4,
     "metadata": {},
     "output_type": "execute_result"
    }
   ],
   "source": [
    "df.columns"
   ]
  },
  {
   "cell_type": "code",
   "execution_count": 5,
   "metadata": {},
   "outputs": [
    {
     "data": {
      "text/plain": [
       "array(['T', 'I', 'D', 'N', 'G', 'S', 'B', 'A', 'J', 'M', 'X', 'O', 'R',\n",
       "       'F', 'C', 'H', 'W', 'L', 'P', 'E', 'V', 'Y', 'Q', 'U', 'K', 'Z'],\n",
       "      dtype=object)"
      ]
     },
     "execution_count": 5,
     "metadata": {},
     "output_type": "execute_result"
    }
   ],
   "source": [
    "df[0].unique() # A to Z Capital Alphabets"
   ]
  },
  {
   "cell_type": "code",
   "execution_count": 6,
   "metadata": {},
   "outputs": [
    {
     "data": {
      "text/plain": [
       "26"
      ]
     },
     "execution_count": 6,
     "metadata": {},
     "output_type": "execute_result"
    }
   ],
   "source": [
    "len(df[0].unique())"
   ]
  },
  {
   "cell_type": "code",
   "execution_count": 7,
   "metadata": {},
   "outputs": [
    {
     "data": {
      "text/plain": [
       "U    813\n",
       "D    805\n",
       "P    803\n",
       "T    796\n",
       "M    792\n",
       "A    789\n",
       "X    787\n",
       "Y    786\n",
       "Q    783\n",
       "N    783\n",
       "F    775\n",
       "G    773\n",
       "E    768\n",
       "B    766\n",
       "V    764\n",
       "L    761\n",
       "R    758\n",
       "I    755\n",
       "O    753\n",
       "W    752\n",
       "S    748\n",
       "J    747\n",
       "K    739\n",
       "C    736\n",
       "H    734\n",
       "Z    734\n",
       "Name: 0, dtype: int64"
      ]
     },
     "execution_count": 7,
     "metadata": {},
     "output_type": "execute_result"
    }
   ],
   "source": [
    "df[0].value_counts()"
   ]
  },
  {
   "cell_type": "code",
   "execution_count": 8,
   "metadata": {},
   "outputs": [],
   "source": [
    "labels = df[0]"
   ]
  },
  {
   "cell_type": "code",
   "execution_count": 9,
   "metadata": {},
   "outputs": [],
   "source": [
    "features = df.drop(0, 1)"
   ]
  },
  {
   "cell_type": "code",
   "execution_count": 10,
   "metadata": {},
   "outputs": [
    {
     "data": {
      "text/plain": [
       "0    T\n",
       "1    I\n",
       "2    D\n",
       "3    N\n",
       "4    G\n",
       "Name: 0, dtype: object"
      ]
     },
     "execution_count": 10,
     "metadata": {},
     "output_type": "execute_result"
    }
   ],
   "source": [
    "labels.head()"
   ]
  },
  {
   "cell_type": "code",
   "execution_count": 11,
   "metadata": {},
   "outputs": [
    {
     "data": {
      "text/html": [
       "<div>\n",
       "<style scoped>\n",
       "    .dataframe tbody tr th:only-of-type {\n",
       "        vertical-align: middle;\n",
       "    }\n",
       "\n",
       "    .dataframe tbody tr th {\n",
       "        vertical-align: top;\n",
       "    }\n",
       "\n",
       "    .dataframe thead th {\n",
       "        text-align: right;\n",
       "    }\n",
       "</style>\n",
       "<table border=\"1\" class=\"dataframe\">\n",
       "  <thead>\n",
       "    <tr style=\"text-align: right;\">\n",
       "      <th></th>\n",
       "      <th>1</th>\n",
       "      <th>2</th>\n",
       "      <th>3</th>\n",
       "      <th>4</th>\n",
       "      <th>5</th>\n",
       "      <th>6</th>\n",
       "      <th>7</th>\n",
       "      <th>8</th>\n",
       "      <th>9</th>\n",
       "      <th>10</th>\n",
       "      <th>11</th>\n",
       "      <th>12</th>\n",
       "      <th>13</th>\n",
       "      <th>14</th>\n",
       "      <th>15</th>\n",
       "      <th>16</th>\n",
       "    </tr>\n",
       "  </thead>\n",
       "  <tbody>\n",
       "    <tr>\n",
       "      <td>0</td>\n",
       "      <td>2</td>\n",
       "      <td>8</td>\n",
       "      <td>3</td>\n",
       "      <td>5</td>\n",
       "      <td>1</td>\n",
       "      <td>8</td>\n",
       "      <td>13</td>\n",
       "      <td>0</td>\n",
       "      <td>6</td>\n",
       "      <td>6</td>\n",
       "      <td>10</td>\n",
       "      <td>8</td>\n",
       "      <td>0</td>\n",
       "      <td>8</td>\n",
       "      <td>0</td>\n",
       "      <td>8</td>\n",
       "    </tr>\n",
       "    <tr>\n",
       "      <td>1</td>\n",
       "      <td>5</td>\n",
       "      <td>12</td>\n",
       "      <td>3</td>\n",
       "      <td>7</td>\n",
       "      <td>2</td>\n",
       "      <td>10</td>\n",
       "      <td>5</td>\n",
       "      <td>5</td>\n",
       "      <td>4</td>\n",
       "      <td>13</td>\n",
       "      <td>3</td>\n",
       "      <td>9</td>\n",
       "      <td>2</td>\n",
       "      <td>8</td>\n",
       "      <td>4</td>\n",
       "      <td>10</td>\n",
       "    </tr>\n",
       "    <tr>\n",
       "      <td>2</td>\n",
       "      <td>4</td>\n",
       "      <td>11</td>\n",
       "      <td>6</td>\n",
       "      <td>8</td>\n",
       "      <td>6</td>\n",
       "      <td>10</td>\n",
       "      <td>6</td>\n",
       "      <td>2</td>\n",
       "      <td>6</td>\n",
       "      <td>10</td>\n",
       "      <td>3</td>\n",
       "      <td>7</td>\n",
       "      <td>3</td>\n",
       "      <td>7</td>\n",
       "      <td>3</td>\n",
       "      <td>9</td>\n",
       "    </tr>\n",
       "    <tr>\n",
       "      <td>3</td>\n",
       "      <td>7</td>\n",
       "      <td>11</td>\n",
       "      <td>6</td>\n",
       "      <td>6</td>\n",
       "      <td>3</td>\n",
       "      <td>5</td>\n",
       "      <td>9</td>\n",
       "      <td>4</td>\n",
       "      <td>6</td>\n",
       "      <td>4</td>\n",
       "      <td>4</td>\n",
       "      <td>10</td>\n",
       "      <td>6</td>\n",
       "      <td>10</td>\n",
       "      <td>2</td>\n",
       "      <td>8</td>\n",
       "    </tr>\n",
       "    <tr>\n",
       "      <td>4</td>\n",
       "      <td>2</td>\n",
       "      <td>1</td>\n",
       "      <td>3</td>\n",
       "      <td>1</td>\n",
       "      <td>1</td>\n",
       "      <td>8</td>\n",
       "      <td>6</td>\n",
       "      <td>6</td>\n",
       "      <td>6</td>\n",
       "      <td>6</td>\n",
       "      <td>5</td>\n",
       "      <td>9</td>\n",
       "      <td>1</td>\n",
       "      <td>7</td>\n",
       "      <td>5</td>\n",
       "      <td>10</td>\n",
       "    </tr>\n",
       "  </tbody>\n",
       "</table>\n",
       "</div>"
      ],
      "text/plain": [
       "   1   2   3   4   5   6   7   8   9   10  11  12  13  14  15  16\n",
       "0   2   8   3   5   1   8  13   0   6   6  10   8   0   8   0   8\n",
       "1   5  12   3   7   2  10   5   5   4  13   3   9   2   8   4  10\n",
       "2   4  11   6   8   6  10   6   2   6  10   3   7   3   7   3   9\n",
       "3   7  11   6   6   3   5   9   4   6   4   4  10   6  10   2   8\n",
       "4   2   1   3   1   1   8   6   6   6   6   5   9   1   7   5  10"
      ]
     },
     "execution_count": 11,
     "metadata": {},
     "output_type": "execute_result"
    }
   ],
   "source": [
    "features.head()"
   ]
  },
  {
   "cell_type": "code",
   "execution_count": 12,
   "metadata": {},
   "outputs": [
    {
     "data": {
      "text/plain": [
       "(20000,)"
      ]
     },
     "execution_count": 12,
     "metadata": {},
     "output_type": "execute_result"
    }
   ],
   "source": [
    "labels.shape"
   ]
  },
  {
   "cell_type": "code",
   "execution_count": 13,
   "metadata": {},
   "outputs": [
    {
     "data": {
      "text/plain": [
       "(20000, 16)"
      ]
     },
     "execution_count": 13,
     "metadata": {},
     "output_type": "execute_result"
    }
   ],
   "source": [
    "features.shape"
   ]
  },
  {
   "cell_type": "code",
   "execution_count": 14,
   "metadata": {},
   "outputs": [
    {
     "data": {
      "text/plain": [
       "array(['T', 'I', 'D', 'N', 'G', 'S', 'B', 'A', 'J', 'M', 'X', 'O', 'R',\n",
       "       'F', 'C', 'H', 'W', 'L', 'P', 'E', 'V', 'Y', 'Q', 'U', 'K', 'Z'],\n",
       "      dtype=object)"
      ]
     },
     "execution_count": 14,
     "metadata": {},
     "output_type": "execute_result"
    }
   ],
   "source": [
    "labels.unique()"
   ]
  },
  {
   "cell_type": "code",
   "execution_count": 15,
   "metadata": {},
   "outputs": [
    {
     "data": {
      "text/plain": [
       "array([19,  8,  3, ..., 19, 18,  0])"
      ]
     },
     "execution_count": 15,
     "metadata": {},
     "output_type": "execute_result"
    }
   ],
   "source": [
    "labels = np.ravel(labels)\n",
    "#print(labels)\n",
    "from sklearn.preprocessing import LabelEncoder\n",
    "le = LabelEncoder()\n",
    "#le.fit_transform(label,label)\n",
    "labels = le.fit_transform(labels)\n",
    "labels"
   ]
  },
  {
   "cell_type": "code",
   "execution_count": 16,
   "metadata": {},
   "outputs": [],
   "source": [
    "###############################3"
   ]
  },
  {
   "cell_type": "code",
   "execution_count": 17,
   "metadata": {},
   "outputs": [
    {
     "data": {
      "image/png": "[encoded data removed]",
      "text/plain": [
       "<Figure size 432x288 with 1 Axes>"
      ]
     },
     "metadata": {
      "needs_background": "light"
     },
     "output_type": "display_data"
    }
   ],
   "source": [
    "# viewing Picture\n",
    "pic = 55\n",
    "y = features.iloc[pic].values\n",
    "z = y.reshape(4,4)\n",
    "plt.imshow(z,cmap = plt.cm.binary)\n",
    "plt.show()"
   ]
  },
  {
   "cell_type": "code",
   "execution_count": 18,
   "metadata": {},
   "outputs": [],
   "source": [
    "features = features.values"
   ]
  },
  {
   "cell_type": "code",
   "execution_count": 19,
   "metadata": {},
   "outputs": [],
   "source": [
    "# spliting data\n",
    "from sklearn.model_selection import train_test_split\n",
    "x_train, x_test, y_train, y_test = train_test_split(features, labels, test_size=0.2, random_state=1)"
   ]
  },
  {
   "cell_type": "code",
   "execution_count": 20,
   "metadata": {},
   "outputs": [
    {
     "data": {
      "text/plain": [
       "16"
      ]
     },
     "execution_count": 20,
     "metadata": {},
     "output_type": "execute_result"
    }
   ],
   "source": [
    "x_train.shape[1] # input shape"
   ]
  },
  {
   "cell_type": "code",
   "execution_count": 21,
   "metadata": {},
   "outputs": [
    {
     "data": {
      "text/plain": [
       "(16000,)"
      ]
     },
     "execution_count": 21,
     "metadata": {},
     "output_type": "execute_result"
    }
   ],
   "source": [
    "y_train.shape"
   ]
  },
  {
   "cell_type": "code",
   "execution_count": 22,
   "metadata": {},
   "outputs": [
    {
     "name": "stdout",
     "output_type": "stream",
     "text": [
      "Train on 12800 samples, validate on 3200 samples\n",
      "Epoch 1/50\n",
      "12800/12800 [==============================] - 3s 203us/sample - loss: 1.8597 - accuracy: 0.4626 - val_loss: 1.2233 - val_accuracy: 0.6309\n",
      "Epoch 2/50\n",
      "12800/12800 [==============================] - 1s 106us/sample - loss: 1.0223 - accuracy: 0.7007 - val_loss: 0.9203 - val_accuracy: 0.7231\n",
      "Epoch 3/50\n",
      "12800/12800 [==============================] - 1s 113us/sample - loss: 0.7933 - accuracy: 0.7651 - val_loss: 0.8237 - val_accuracy: 0.7437\n",
      "Epoch 4/50\n",
      "12800/12800 [==============================] - 1s 104us/sample - loss: 0.6737 - accuracy: 0.7951 - val_loss: 0.6859 - val_accuracy: 0.7925\n",
      "Epoch 5/50\n",
      "12800/12800 [==============================] - 1s 100us/sample - loss: 0.5867 - accuracy: 0.8213 - val_loss: 0.5701 - val_accuracy: 0.8353\n",
      "Epoch 6/50\n",
      "12800/12800 [==============================] - 1s 100us/sample - loss: 0.5292 - accuracy: 0.8345 - val_loss: 0.5317 - val_accuracy: 0.8397\n",
      "Epoch 7/50\n",
      "12800/12800 [==============================] - 1s 100us/sample - loss: 0.4707 - accuracy: 0.8527 - val_loss: 0.5265 - val_accuracy: 0.8338\n",
      "Epoch 8/50\n",
      "12800/12800 [==============================] - 1s 102us/sample - loss: 0.4355 - accuracy: 0.8625 - val_loss: 0.4839 - val_accuracy: 0.8431\n",
      "Epoch 9/50\n",
      "12800/12800 [==============================] - 1s 102us/sample - loss: 0.3975 - accuracy: 0.8733 - val_loss: 0.3919 - val_accuracy: 0.8819\n",
      "Epoch 10/50\n",
      "12800/12800 [==============================] - 1s 103us/sample - loss: 0.3690 - accuracy: 0.8843 - val_loss: 0.3821 - val_accuracy: 0.8784\n",
      "Epoch 11/50\n",
      "12800/12800 [==============================] - 1s 104us/sample - loss: 0.3367 - accuracy: 0.8931 - val_loss: 0.3787 - val_accuracy: 0.8750\n",
      "Epoch 12/50\n",
      "12800/12800 [==============================] - 1s 104us/sample - loss: 0.3202 - accuracy: 0.8964 - val_loss: 0.3531 - val_accuracy: 0.8853\n",
      "Epoch 13/50\n",
      "12800/12800 [==============================] - 1s 105us/sample - loss: 0.3118 - accuracy: 0.9013 - val_loss: 0.3094 - val_accuracy: 0.8997\n",
      "Epoch 14/50\n",
      "12800/12800 [==============================] - 1s 106us/sample - loss: 0.2906 - accuracy: 0.9073 - val_loss: 0.3507 - val_accuracy: 0.8891\n",
      "Epoch 15/50\n",
      "12800/12800 [==============================] - 1s 107us/sample - loss: 0.2814 - accuracy: 0.9092 - val_loss: 0.3555 - val_accuracy: 0.8788\n",
      "Epoch 16/50\n",
      "12800/12800 [==============================] - 1s 106us/sample - loss: 0.2548 - accuracy: 0.9202 - val_loss: 0.2786 - val_accuracy: 0.9075\n",
      "Epoch 17/50\n",
      "12800/12800 [==============================] - 1s 105us/sample - loss: 0.2557 - accuracy: 0.9166 - val_loss: 0.3075 - val_accuracy: 0.8978\n",
      "Epoch 18/50\n",
      "12800/12800 [==============================] - 1s 105us/sample - loss: 0.2398 - accuracy: 0.9210 - val_loss: 0.2622 - val_accuracy: 0.9156\n",
      "Epoch 19/50\n",
      "12800/12800 [==============================] - 1s 105us/sample - loss: 0.2322 - accuracy: 0.9240 - val_loss: 0.2529 - val_accuracy: 0.9175\n",
      "Epoch 20/50\n",
      "12800/12800 [==============================] - 1s 105us/sample - loss: 0.2248 - accuracy: 0.9247 - val_loss: 0.2560 - val_accuracy: 0.9166\n",
      "Epoch 21/50\n",
      "12800/12800 [==============================] - 1s 107us/sample - loss: 0.2150 - accuracy: 0.9323 - val_loss: 0.2977 - val_accuracy: 0.9066\n",
      "Epoch 22/50\n",
      "12800/12800 [==============================] - 1s 104us/sample - loss: 0.2109 - accuracy: 0.9277 - val_loss: 0.2652 - val_accuracy: 0.9122\n",
      "Epoch 23/50\n",
      "12800/12800 [==============================] - 1s 106us/sample - loss: 0.1995 - accuracy: 0.9362 - val_loss: 0.2387 - val_accuracy: 0.9291\n",
      "Epoch 24/50\n",
      "12800/12800 [==============================] - 1s 104us/sample - loss: 0.2016 - accuracy: 0.9320 - val_loss: 0.2227 - val_accuracy: 0.9306\n",
      "Epoch 25/50\n",
      "12800/12800 [==============================] - 1s 105us/sample - loss: 0.1818 - accuracy: 0.9413 - val_loss: 0.2625 - val_accuracy: 0.9125\n",
      "Epoch 26/50\n",
      "12800/12800 [==============================] - 1s 105us/sample - loss: 0.1768 - accuracy: 0.9402 - val_loss: 0.2562 - val_accuracy: 0.9094\n",
      "Epoch 27/50\n",
      "12800/12800 [==============================] - 1s 106us/sample - loss: 0.1862 - accuracy: 0.9363 - val_loss: 0.2161 - val_accuracy: 0.9309\n",
      "Epoch 28/50\n",
      "12800/12800 [==============================] - 1s 107us/sample - loss: 0.1786 - accuracy: 0.9398 - val_loss: 0.2514 - val_accuracy: 0.9166\n",
      "Epoch 29/50\n",
      "12800/12800 [==============================] - 1s 107us/sample - loss: 0.1661 - accuracy: 0.9436 - val_loss: 0.2162 - val_accuracy: 0.9331\n",
      "Epoch 30/50\n",
      "12800/12800 [==============================] - 1s 107us/sample - loss: 0.1565 - accuracy: 0.9463 - val_loss: 0.2044 - val_accuracy: 0.9269\n",
      "Epoch 31/50\n",
      "12800/12800 [==============================] - 1s 107us/sample - loss: 0.1633 - accuracy: 0.9458 - val_loss: 0.2477 - val_accuracy: 0.9200\n",
      "Epoch 32/50\n",
      "12800/12800 [==============================] - 1s 108us/sample - loss: 0.1500 - accuracy: 0.9495 - val_loss: 0.2014 - val_accuracy: 0.9334\n",
      "Epoch 33/50\n",
      "12800/12800 [==============================] - 1s 108us/sample - loss: 0.1638 - accuracy: 0.9445 - val_loss: 0.2372 - val_accuracy: 0.9200\n",
      "Epoch 34/50\n",
      "12800/12800 [==============================] - 1s 107us/sample - loss: 0.1429 - accuracy: 0.9508 - val_loss: 0.2957 - val_accuracy: 0.9128\n",
      "Epoch 35/50\n",
      "12800/12800 [==============================] - 1s 108us/sample - loss: 0.1531 - accuracy: 0.9484 - val_loss: 0.2021 - val_accuracy: 0.9372\n",
      "Epoch 36/50\n",
      "12800/12800 [==============================] - 1s 104us/sample - loss: 0.1301 - accuracy: 0.9566 - val_loss: 0.1864 - val_accuracy: 0.9391\n",
      "Epoch 37/50\n",
      "12800/12800 [==============================] - 1s 103us/sample - loss: 0.1366 - accuracy: 0.9533 - val_loss: 0.2220 - val_accuracy: 0.9266\n",
      "Epoch 38/50\n",
      "12800/12800 [==============================] - 1s 104us/sample - loss: 0.1216 - accuracy: 0.9593 - val_loss: 0.2386 - val_accuracy: 0.9209\n",
      "Epoch 39/50\n",
      "12800/12800 [==============================] - 1s 109us/sample - loss: 0.1410 - accuracy: 0.9507 - val_loss: 0.2174 - val_accuracy: 0.9319\n",
      "Epoch 40/50\n",
      "12800/12800 [==============================] - 1s 108us/sample - loss: 0.1217 - accuracy: 0.9591 - val_loss: 0.1986 - val_accuracy: 0.9325\n",
      "Epoch 41/50\n",
      "12800/12800 [==============================] - 1s 109us/sample - loss: 0.1229 - accuracy: 0.9574 - val_loss: 0.2321 - val_accuracy: 0.9262\n",
      "Epoch 42/50\n",
      "12800/12800 [==============================] - 1s 109us/sample - loss: 0.1149 - accuracy: 0.9618 - val_loss: 0.2226 - val_accuracy: 0.9312\n",
      "Epoch 43/50\n",
      "12800/12800 [==============================] - 1s 109us/sample - loss: 0.1211 - accuracy: 0.9571 - val_loss: 0.2141 - val_accuracy: 0.9306\n",
      "Epoch 44/50\n",
      "12800/12800 [==============================] - 1s 107us/sample - loss: 0.1205 - accuracy: 0.9566 - val_loss: 0.1945 - val_accuracy: 0.9413\n",
      "Epoch 45/50\n",
      "12800/12800 [==============================] - 1s 110us/sample - loss: 0.1165 - accuracy: 0.9602 - val_loss: 0.2232 - val_accuracy: 0.9297\n",
      "Epoch 46/50\n",
      "12800/12800 [==============================] - 1s 102us/sample - loss: 0.1139 - accuracy: 0.9625 - val_loss: 0.1795 - val_accuracy: 0.9419\n",
      "Epoch 47/50\n",
      "12800/12800 [==============================] - 1s 97us/sample - loss: 0.1093 - accuracy: 0.9616 - val_loss: 0.1910 - val_accuracy: 0.9413\n",
      "Epoch 48/50\n",
      "12800/12800 [==============================] - 1s 98us/sample - loss: 0.1079 - accuracy: 0.9619 - val_loss: 0.1722 - val_accuracy: 0.9425\n",
      "Epoch 49/50\n",
      "12800/12800 [==============================] - 1s 99us/sample - loss: 0.1012 - accuracy: 0.9652 - val_loss: 0.1989 - val_accuracy: 0.9353\n",
      "Epoch 50/50\n",
      "12800/12800 [==============================] - 1s 105us/sample - loss: 0.1179 - accuracy: 0.9599 - val_loss: 0.1812 - val_accuracy: 0.9422\n"
     ]
    }
   ],
   "source": [
    "models = tf.keras.Sequential\n",
    "layers = tf.keras.layers\n",
    "\n",
    "model = models([layers.Dense(512,activation=\"relu\",input_shape=(16,)),\n",
    "                layers.Flatten(),\n",
    "                layers.Dense(64,activation=\"relu\"),\n",
    "                layers.Dense(32,activation=\"relu\"),\n",
    "                layers.Dense(26, activation='softmax')])\n",
    "\n",
    "model.compile(optimizer=\"adam\", # adam # rmsprop\n",
    "             loss=\"sparse_categorical_crossentropy\",\n",
    "             metrics=[\"accuracy\"])\n",
    "\n",
    "history = model.fit(x_train,y_train,epochs=50,validation_split=(0.2))"
   ]
  },
  {
   "cell_type": "code",
   "execution_count": 23,
   "metadata": {},
   "outputs": [
    {
     "name": "stdout",
     "output_type": "stream",
     "text": [
      "4000/1 - 0s - loss: 0.1173 - accuracy: 0.9335\n",
      "\n",
      "Loss:  21.032731829583646 %\n",
      "Accuracy:  93.34999918937683 %\n"
     ]
    }
   ],
   "source": [
    "evaluation = model.evaluate(x_test,y_test,verbose=2)\n",
    "print()\n",
    "print(\"Loss: \",evaluation[0]*100,\"%\")\n",
    "print(\"Accuracy: \",evaluation[1]*100,\"%\")"
   ]
  },
  {
   "cell_type": "code",
   "execution_count": 24,
   "metadata": {},
   "outputs": [
    {
     "data": {
      "text/plain": [
       "dict_keys(['loss', 'accuracy', 'val_loss', 'val_accuracy'])"
      ]
     },
     "execution_count": 24,
     "metadata": {},
     "output_type": "execute_result"
    }
   ],
   "source": [
    "history.history.keys()"
   ]
  },
  {
   "cell_type": "code",
   "execution_count": 25,
   "metadata": {},
   "outputs": [
    {
     "data": {
      "image/png": "[encoded data removed]",
      "text/plain": [
       "<Figure size 432x288 with 1 Axes>"
      ]
     },
     "metadata": {
      "needs_background": "light"
     },
     "output_type": "display_data"
    }
   ],
   "source": [
    "loss = history.history['loss']\n",
    "val_loss = history.history['val_loss']\n",
    "\n",
    "epochs = range(1, len(loss) + 1)\n",
    "\n",
    "plt.plot(epochs, loss, 'bo', label='Training loss')\n",
    "plt.plot(epochs, val_loss, 'b', label='Validation loss')\n",
    "plt.title('Training and validation loss')\n",
    "plt.xlabel('Epochs')\n",
    "plt.ylabel('Loss')\n",
    "plt.legend()\n",
    "plt.show()"
   ]
  },
  {
   "cell_type": "code",
   "execution_count": 26,
   "metadata": {},
   "outputs": [
    {
     "data": {
      "image/png": "[encoded data removed]",
      "text/plain": [
       "<Figure size 432x288 with 1 Axes>"
      ]
     },
     "metadata": {
      "needs_background": "light"
     },
     "output_type": "display_data"
    }
   ],
   "source": [
    "acc = history.history['accuracy']\n",
    "val_acc = history.history['val_accuracy']\n",
    "\n",
    "epochs = range(1, len(acc) + 1)\n",
    "\n",
    "plt.plot(epochs, acc, 'bo', label='Training acc')\n",
    "plt.plot(epochs, val_acc, 'b', label='Validation acc')\n",
    "plt.title('Training and validation acc')\n",
    "plt.xlabel('Epochs')\n",
    "plt.ylabel('acc')\n",
    "plt.legend()\n",
    "plt.show()"
   ]
  },
  {
   "cell_type": "code",
   "execution_count": 59,
   "metadata": {},
   "outputs": [
    {
     "name": "stdout",
     "output_type": "stream",
     "text": [
      "Predicted value:  3\n",
      "Actual value:  3\n"
     ]
    }
   ],
   "source": [
    "predict = 1\n",
    "a = model.predict_classes(x_test)[predict]\n",
    "print(\"Predicted value: \",a)\n",
    "print(\"Actual value: \",y_test[0])"
   ]
  },
  {
   "cell_type": "markdown",
   "metadata": {},
   "source": [
    "#  Model"
   ]
  },
  {
   "cell_type": "code",
   "execution_count": null,
   "metadata": {},
   "outputs": [],
   "source": [
    "\"\"\"models = tf.keras.Sequential\n",
    "layers = tf.keras.layers\n",
    "\n",
    "model = models([layers.Conv2D(16, (3, 3), activation='relu', input_shape=(30, 30, 3)),\n",
    "                layers.MaxPooling2D((2, 2)),\n",
    "                layers.Conv2D(32, (3, 3), activation='relu'),\n",
    "                layers.MaxPooling2D((2, 2)),\n",
    "                layers.Flatten(),\n",
    "                #layers.Dense(512, activation='relu'),\n",
    "                layers.Dense(26, activation='softmax')]) # sigmoid\n",
    "\n",
    "model.summary()\n",
    "\n",
    "from tensorflow.keras import optimizers\n",
    "\n",
    "model.compile(optimizer=optimizers.RMSprop(lr=1e-4), #adam\n",
    "              loss='categorical_crossentropy', # binary_crossentropy\n",
    "              metrics=['accuracy'])\"\"\""
   ]
  }
 ],
 "metadata": {
  "kernelspec": {
   "display_name": "Python 3",
   "language": "python",
   "name": "python3"
  },
  "language_info": {
   "codemirror_mode": {
    "name": "ipython",
    "version": 3
   },
   "file_extension": ".py",
   "mimetype": "text/x-python",
   "name": "python",
   "nbconvert_exporter": "python",
   "pygments_lexer": "ipython3",
   "version": "3.7.4"
  }
 },
 "nbformat": 4,
 "nbformat_minor": 2
}
